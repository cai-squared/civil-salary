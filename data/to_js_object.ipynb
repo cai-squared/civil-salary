{
 "cells": [
  {
   "cell_type": "code",
   "execution_count": 1,
   "metadata": {},
   "outputs": [],
   "source": [
    "import pandas as pd\n",
    "import json"
   ]
  },
  {
   "cell_type": "markdown",
   "metadata": {},
   "source": [
    "## Create State + City Options"
   ]
  },
  {
   "cell_type": "code",
   "execution_count": 2,
   "metadata": {},
   "outputs": [
    {
     "data": {
      "text/html": [
       "<div>\n",
       "<style scoped>\n",
       "    .dataframe tbody tr th:only-of-type {\n",
       "        vertical-align: middle;\n",
       "    }\n",
       "\n",
       "    .dataframe tbody tr th {\n",
       "        vertical-align: top;\n",
       "    }\n",
       "\n",
       "    .dataframe thead th {\n",
       "        text-align: right;\n",
       "    }\n",
       "</style>\n",
       "<table border=\"1\" class=\"dataframe\">\n",
       "  <thead>\n",
       "    <tr style=\"text-align: right;\">\n",
       "      <th></th>\n",
       "      <th>index</th>\n",
       "      <th>state</th>\n",
       "      <th>city</th>\n",
       "      <th>dollars</th>\n",
       "      <th>factor</th>\n",
       "    </tr>\n",
       "  </thead>\n",
       "  <tbody>\n",
       "    <tr>\n",
       "      <th>0</th>\n",
       "      <td>0</td>\n",
       "      <td>Alabama</td>\n",
       "      <td>Anniston-Calhoun County</td>\n",
       "      <td>42097.0</td>\n",
       "      <td>0.84194</td>\n",
       "    </tr>\n",
       "    <tr>\n",
       "      <th>1</th>\n",
       "      <td>1</td>\n",
       "      <td>Alabama</td>\n",
       "      <td>Auburn-Opelika</td>\n",
       "      <td>46758.0</td>\n",
       "      <td>0.93516</td>\n",
       "    </tr>\n",
       "    <tr>\n",
       "      <th>2</th>\n",
       "      <td>2</td>\n",
       "      <td>Alabama</td>\n",
       "      <td>Birmingham</td>\n",
       "      <td>46657.0</td>\n",
       "      <td>0.93314</td>\n",
       "    </tr>\n",
       "    <tr>\n",
       "      <th>3</th>\n",
       "      <td>3</td>\n",
       "      <td>Alabama</td>\n",
       "      <td>Decatur-Hartselle</td>\n",
       "      <td>43161.0</td>\n",
       "      <td>0.86322</td>\n",
       "    </tr>\n",
       "    <tr>\n",
       "      <th>4</th>\n",
       "      <td>4</td>\n",
       "      <td>Alabama</td>\n",
       "      <td>Dothan</td>\n",
       "      <td>46150.0</td>\n",
       "      <td>0.92300</td>\n",
       "    </tr>\n",
       "  </tbody>\n",
       "</table>\n",
       "</div>"
      ],
      "text/plain": [
       "   index    state                     city  dollars   factor\n",
       "0      0  Alabama  Anniston-Calhoun County  42097.0  0.84194\n",
       "1      1  Alabama           Auburn-Opelika  46758.0  0.93516\n",
       "2      2  Alabama               Birmingham  46657.0  0.93314\n",
       "3      3  Alabama        Decatur-Hartselle  43161.0  0.86322\n",
       "4      4  Alabama                   Dothan  46150.0  0.92300"
      ]
     },
     "execution_count": 2,
     "metadata": {},
     "output_type": "execute_result"
    }
   ],
   "source": [
    "col_df= pd.read_csv('state_city_col.csv')\n",
    "col_df= col_df.reset_index()\n",
    "\n",
    "col_dict= {}\n",
    "col_df.head()\n"
   ]
  },
  {
   "cell_type": "code",
   "execution_count": 3,
   "metadata": {},
   "outputs": [],
   "source": [
    "state_list= col_df.state.unique().tolist()\n",
    "state_city_col_dict= {}\n",
    "\n",
    "for state in state_list:\n",
    "\n",
    "    city_col_list= []\n",
    "    state_col_df= col_df[col_df.state == state]\n",
    "\n",
    "    for index, row in state_col_df.iterrows():\n",
    "        city_col_dict= {'city': row['city'], 'factor': row['factor']}\n",
    "        city_col_list.append(city_col_dict)\n",
    "    \n",
    "    state_city_col_dict[state]= city_col_list\n"
   ]
  },
  {
   "cell_type": "code",
   "execution_count": 5,
   "metadata": {},
   "outputs": [],
   "source": [
    "state_city_col_object= json.dumps(state_city_col_dict, indent=4)\n",
    "state_city_col_object= \"var state_city_col= \" + state_city_col_object\n",
    "\n",
    "with open('../js/state_city_col.js', 'w') as outfile:\n",
    "    outfile.write(state_city_col_object)"
   ]
  },
  {
   "cell_type": "code",
   "execution_count": null,
   "metadata": {},
   "outputs": [],
   "source": []
  }
 ],
 "metadata": {
  "kernelspec": {
   "display_name": "base",
   "language": "python",
   "name": "python3"
  },
  "language_info": {
   "codemirror_mode": {
    "name": "ipython",
    "version": 3
   },
   "file_extension": ".py",
   "mimetype": "text/x-python",
   "name": "python",
   "nbconvert_exporter": "python",
   "pygments_lexer": "ipython3",
   "version": "3.11.7"
  }
 },
 "nbformat": 4,
 "nbformat_minor": 2
}
